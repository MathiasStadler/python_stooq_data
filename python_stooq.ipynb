{
 "cells": [
  {
   "cell_type": "markdown",
   "metadata": {},
   "source": [
    "#[Free Financial Data Sources](https://medium.com/@mlblogging.k/free-financial-data-sources-4283846ba9f5)"
   ]
  },
  {
   "cell_type": "markdown",
   "metadata": {},
   "source": [
    "# test out for Debian GNU/Linux 12 (bookworm) inside docker container\n",
    "\n",
    "- [How to install Python 3.12.2 on Debian 11 bullseye](https://aruljohn.com/blog/install-python-debian/)\n",
    "- [python3 install](https://www.digitalocean.com/community/tutorials/how-to-set-up-jupyter-notebook-with-python-3-on-ubuntu-18-04)"
   ]
  },
  {
   "cell_type": "code",
   "execution_count": null,
   "metadata": {
    "vscode": {
     "languageId": "shellscript"
    }
   },
   "outputs": [],
   "source": [
    "#!/bin/bash\n",
    "python3 --version\n"
   ]
  },
  {
   "cell_type": "code",
   "execution_count": null,
   "metadata": {
    "vscode": {
     "languageId": "shellscript"
    }
   },
   "outputs": [],
   "source": [
    "#!/bin/bash\n",
    "sudo apt update\n",
    "sudo apt install python3-pip python3-dev\n",
    "sudo apt install virtualenv\n",
    "virtualenv my_project_env\n",
    "source my_project_env/bin/activate\n",
    "# Installing Jupyter Kernel"
   ]
  },
  {
   "cell_type": "code",
   "execution_count": null,
   "metadata": {
    "vscode": {
     "languageId": "shellscript"
    }
   },
   "outputs": [],
   "source": [
    "#!/bin/bash\n",
    "sudo apt install python3-pip python3-dev\n",
    "   44  sudo -H pip3 install --upgrade pip\n",
    "   45  virtualenv my_project_env\n",
    "   46  apt install virtualenv\n",
    "   47  sudo apt install virtualenv\n",
    "   48  virtualenv my_project_env\n",
    "   49  cat /etc/os-release \n",
    "   50  source my_project_env/bin/activate\n",
    "   51  pip install jupyter"
   ]
  },
  {
   "cell_type": "markdown",
   "metadata": {},
   "source": [
    "## [code from here](https://medium.com/@mlblogging.k/free-financial-data-sources-4283846ba9f5)"
   ]
  },
  {
   "cell_type": "code",
   "execution_count": null,
   "metadata": {},
   "outputs": [],
   "source": [
    "pip install pandas_datareader"
   ]
  },
  {
   "cell_type": "code",
   "execution_count": null,
   "metadata": {},
   "outputs": [],
   "source": [
    "import pandas_datareader as pdrdfr = pdr.stooq.StooqDailyReader(\n",
    "symbols=[ 'META.US', 'MSFT.US', 'GOOG.US'],\n",
    "start='1/1/15',\n",
    "end='7/11/22'\n",
    ")df = dfr.read()\n",
    "print(df.head())"
   ]
  },
  {
   "cell_type": "code",
   "execution_count": null,
   "metadata": {
    "vscode": {
     "languageId": "shellscript"
    }
   },
   "outputs": [],
   "source": [
    "virtualenv my_project_env\n",
    "source my_project_env/bin/activate\n",
    "pip install pandas_datareader\n",
    "pip install --upgrade pip"
   ]
  },
  {
   "cell_type": "markdown",
   "metadata": {},
   "source": [
    "# create env"
   ]
  },
  {
   "cell_type": "code",
   "execution_count": null,
   "metadata": {
    "vscode": {
     "languageId": "shellscript"
    }
   },
   "outputs": [],
   "source": [
    "virtualenv my_project_env"
   ]
  },
  {
   "cell_type": "markdown",
   "metadata": {},
   "source": [
    "mkdir test_stooq\n",
    " 1936  cd $_\n",
    " 1937  source my_project_env/bin/activate\n",
    " 1938  virtualenv my_project_env\n",
    " 1939  source my_project_env/bin/activate\n",
    " 1940  pip install pandas_datareader\n",
    " 1941  pip install --upgrade pip\n",
    " 1942  history \n",
    " 1943  vi test_stooq.py\n",
    " 1944  python3 test_stooq.py \n"
   ]
  },
  {
   "cell_type": "markdown",
   "metadata": {},
   "source": [
    "# explore stooq"
   ]
  },
  {
   "cell_type": "code",
   "execution_count": null,
   "metadata": {},
   "outputs": [],
   "source": [
    "%pip pandas_datareader"
   ]
  },
  {
   "cell_type": "code",
   "execution_count": null,
   "metadata": {},
   "outputs": [],
   "source": [
    "import pandas_datareader as pdr\n",
    "dfr = pdr.stooq.StooqDailyReader(\n",
    "symbols=[ 'META.US', 'MSFT.US', 'GOOG.US'],\n",
    "start='1/1/15',\n",
    "end='7/11/22'\n",
    ")df = dfr.read()\n",
    "print(df.head())"
   ]
  }
 ],
 "metadata": {
  "kernelspec": {
   "display_name": "Python 3",
   "language": "python",
   "name": "python3"
  },
  "language_info": {
   "name": "python",
   "version": "3.10.12"
  }
 },
 "nbformat": 4,
 "nbformat_minor": 2
}
