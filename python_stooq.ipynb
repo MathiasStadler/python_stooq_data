{
 "cells": [
  {
   "cell_type": "markdown",
   "metadata": {},
   "source": [
    "#[Free Financial Data Sources](https://medium.com/@mlblogging.k/free-financial-data-sources-4283846ba9f5)"
   ]
  },
  {
   "cell_type": "markdown",
   "metadata": {},
   "source": [
    "# test out for Debian GNU/Linux 12 (bookworm) inside docker container\n",
    "\n",
    "- [How to install Python 3.12.2 on Debian 11 bullseye](https://aruljohn.com/blog/install-python-debian/)\n",
    "- [python3 install](https://www.digitalocean.com/community/tutorials/how-to-set-up-jupyter-notebook-with-python-3-on-ubuntu-18-04)"
   ]
  },
  {
   "cell_type": "code",
   "execution_count": null,
   "metadata": {
    "vscode": {
     "languageId": "shellscript"
    }
   },
   "outputs": [],
   "source": [
    "sudo apt update\n",
    "sudo apt install python3-pip python3-dev\n",
    "sudo apt install virtualenvY\n",
    "virtualenv my_project_env\n",
    "source my_project_env/bin/activate\n",
    "# Installing Jupyter Kernel"
   ]
  },
  {
   "cell_type": "code",
   "execution_count": null,
   "metadata": {
    "vscode": {
     "languageId": "shellscript"
    }
   },
   "outputs": [],
   "source": [
    "sudo apt install python3-pip python3-dev\n",
    "   44  sudo -H pip3 install --upgrade pip\n",
    "   45  virtualenv my_project_env\n",
    "   46  apt install virtualenv\n",
    "   47  sudo apt install virtualenv\n",
    "   48  virtualenv my_project_env\n",
    "   49  cat /etc/os-release \n",
    "   50  source my_project_env/bin/activate\n",
    "   51  pip install jupyter"
   ]
  },
  {
   "cell_type": "markdown",
   "metadata": {},
   "source": [
    "## [code from here](https://medium.com/@mlblogging.k/free-financial-data-sources-4283846ba9f5)"
   ]
  },
  {
   "cell_type": "code",
   "execution_count": null,
   "metadata": {},
   "outputs": [
    {
     "ename": "",
     "evalue": "",
     "output_type": "error",
     "traceback": [
      "\u001b[1;31mRunning cells with 'my_project_env (Python 3.11.2)' requires the ipykernel package.\n",
      "\u001b[1;31mRun the following command to install 'ipykernel' into the Python environment. \n",
      "\u001b[1;31mCommand: '/home/user/workspace_rust/python_stooq_data/my_project_env/bin/python -m pip install ipykernel -U --force-reinstall'"
     ]
    }
   ],
   "source": [
    "%pip import pandas_datareader"
   ]
  },
  {
   "cell_type": "code",
   "execution_count": null,
   "metadata": {},
   "outputs": [],
   "source": [
    "import pandas_datareader as pdrdfr = pdr.stooq.StooqDailyReader(\n",
    "symbols=[ 'META.US', 'MSFT.US', 'GOOG.US'],\n",
    "start='1/1/15',\n",
    "end='7/11/22'\n",
    ")df = dfr.read()\n",
    "print(df.head())"
   ]
  },
  {
   "cell_type": "markdown",
   "metadata": {},
   "source": [
    "# create env"
   ]
  },
  {
   "cell_type": "code",
   "execution_count": null,
   "metadata": {
    "vscode": {
     "languageId": "shellscript"
    }
   },
   "outputs": [],
   "source": [
    "virtualenv my_project_env"
   ]
  },
  {
   "cell_type": "markdown",
   "metadata": {},
   "source": [
    "# explore stooq"
   ]
  },
  {
   "cell_type": "code",
   "execution_count": null,
   "metadata": {},
   "outputs": [
    {
     "ename": "",
     "evalue": "",
     "output_type": "error",
     "traceback": [
      "\u001b[1;31mRunning cells with 'Python 3.11.2' requires the ipykernel package.\n",
      "\u001b[1;31mRun the following command to install 'ipykernel' into the Python environment. \n",
      "\u001b[1;31mCommand: '/bin/python3 -m pip install ipykernel -U --user --force-reinstall'"
     ]
    }
   ],
   "source": [
    "%pip pandas_datareader"
   ]
  },
  {
   "cell_type": "code",
   "execution_count": null,
   "metadata": {},
   "outputs": [],
   "source": [
    "import pandas_datareader as pdr\n",
    "dfr = pdr.stooq.StooqDailyReader(\n",
    "symbols=[ 'META.US', 'MSFT.US', 'GOOG.US'],\n",
    "start='1/1/15',\n",
    "end='7/11/22'\n",
    ")df = dfr.read()\n",
    "print(df.head())"
   ]
  }
 ],
 "metadata": {
  "kernelspec": {
   "display_name": "Python 3",
   "language": "python",
   "name": "python3"
  },
  "language_info": {
   "name": "python",
   "version": "3.11.2"
  }
 },
 "nbformat": 4,
 "nbformat_minor": 2
}
